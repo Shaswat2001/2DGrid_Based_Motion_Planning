{
 "cells": [
  {
   "cell_type": "code",
   "execution_count": 1,
   "metadata": {},
   "outputs": [],
   "source": [
    "# Importing all the libraries\n",
    "import numpy as np\n",
    "import copy\n",
    "import matplotlib.pyplot as plt\n",
    "import heapq\n",
    "import math\n",
    "import sys\n",
    "from celluloid import Camera"
   ]
  },
  {
   "cell_type": "code",
   "execution_count": 2,
   "metadata": {},
   "outputs": [
    {
     "name": "stdout",
     "output_type": "stream",
     "text": [
      "Enter the start Coordinates (x y)5 5\n",
      "Enter the goal Coordinates (x y)300 200\n"
     ]
    }
   ],
   "source": [
    "# Ask the User for Start Node \n",
    "start=tuple(map(int,input(\"Enter the start Coordinates (x y)\").split()))\n",
    "# Ask the User for Goal Node\n",
    "goal=tuple(map(int,input(\"Enter the goal Coordinates (x y)\").split()))\n",
    "max_x=300\n",
    "max_y=200\n",
    "#Checks if the goal node is within the C Space\n",
    "assert(goal<=(max_x,max_y))"
   ]
  },
  {
   "cell_type": "code",
   "execution_count": 3,
   "metadata": {},
   "outputs": [],
   "source": [
    "def compute_cost(graph):\n",
    "    '''\n",
    "    Computes the cost it takes to travel from one node to its neighbour\n",
    "    \n",
    "    Arguments:\n",
    "    graph-- Dictionary of nodes along with their neighbours\n",
    "    \n",
    "    Return:\n",
    "    cost-- Dictionary of cost for every node and corresponding neighbours\n",
    "    '''\n",
    "    \n",
    "    cost={}\n",
    "    for parent,nbr in graph.items():\n",
    "        cost[parent]={}\n",
    "        for pt in nbr:\n",
    "            # Cost is taken as the euclidien distance between two nodes\n",
    "            cost[parent][pt]=np.round(math.sqrt((parent[0]-pt[0])**2+(parent[1]-pt[1])**2),3)\n",
    "    \n",
    "    return cost"
   ]
  },
  {
   "cell_type": "code",
   "execution_count": 4,
   "metadata": {},
   "outputs": [],
   "source": [
    "def manhattan_distance(pt1,pt2):\n",
    "    '''\n",
    "    Calculates the manhattan distance between two points for 'optimistic cost to go' in A* Search\n",
    "    \n",
    "    Arguments:\n",
    "    pt1,pt2-- tuple of two points\n",
    "    \n",
    "    Return:\n",
    "    distance-- Manhattan distance between two points\n",
    "    '''\n",
    "    \n",
    "    x1=pt1[0]\n",
    "    y1=pt1[1]\n",
    "    x2=pt2[0]\n",
    "    y2=pt2[1]\n",
    "    #Manhattan distance is calculated as the sum of absolute difference between the x and y coordinates\n",
    "    distance=abs(x1-x2)+abs(y1-y2)\n",
    "    \n",
    "    return distance"
   ]
  },
  {
   "cell_type": "code",
   "execution_count": 5,
   "metadata": {},
   "outputs": [],
   "source": [
    "def base_graph_generate(point,max_x,max_y):\n",
    "    '''\n",
    "    Calculate neighbours of a given point\n",
    "    \n",
    "    Arguments:\n",
    "    point-- tuple containing the x and y coordinate\n",
    "    max_x-- maximum x coordinate of the grid\n",
    "    max_y-- maximum y coordinate of the grid\n",
    "    \n",
    "    Return:\n",
    "    graph-- Dictionary containing neighbours of a given point\n",
    "    '''\n",
    "    # x and y coordinate are extracted from the tuple\n",
    "    x=point[0]\n",
    "    y=point[1]\n",
    "    graph={}\n",
    "    \n",
    "    # For origin (0,0)\n",
    "    if x==0 and y==0:\n",
    "        graph[point]={(x+1,y),(x,y+1),(x+1,y+1)}\n",
    "    # For last coordinate in the grid\n",
    "    elif x==max_x and y==max_y:\n",
    "        graph[point]={(x-1,y),(x-1,y-1),(x,y-1)}\n",
    "    # For points in the x=0 and 0< y <max_y \n",
    "    elif x==0 and y!=0 and y!=max_y:\n",
    "        graph[point]={(x+1,y),(x,y-1),(x,y+1)}\n",
    "    # For points in the y=0 and 0< x <max_x\n",
    "    elif y==0 and x!=0 and x!=max_x:\n",
    "        graph[point]={(x-1,y),(x+1,y),(x,y+1)}\n",
    "    # For point (0,max_y)\n",
    "    elif x==0 and y==max_y:\n",
    "        graph[point]={(x,y-1),(x+1,y),(x+1,y-1)}\n",
    "    # For point (max_x,0)\n",
    "    elif y==0 and x==max_x:\n",
    "        graph[point]={(x-1,y),(x,y+1),(x-1,y+1)}\n",
    "    # For points in the y=max_y and 0< x <max_x\n",
    "    elif y==max_y and x!=0 and x!=max_x:\n",
    "        graph[point]={(x,y-1),(x+1,y),(x-1,y)}\n",
    "    # For points in the x=max_x and 0< y <max_y \n",
    "    elif x==max_x and y!=0 and y!=max_y:\n",
    "        graph[point]={(x-1,y),(x,y+1),(x,y-1)}\n",
    "    # For rest of the case\n",
    "    else:\n",
    "        graph[point]={(x+1,y),(x-1,y),(x,y+1),(x,y-1),(x+1,y+1),(x-1,y+1),(x-1,y-1),(x+1,y-1)}\n",
    "    \n",
    "    return graph"
   ]
  },
  {
   "cell_type": "code",
   "execution_count": 6,
   "metadata": {},
   "outputs": [],
   "source": [
    "def astar_algorithm(graph,start,goal):\n",
    "    '''\n",
    "    Executes the A*_Seach Algorithm\n",
    "    \n",
    "    Arguments:\n",
    "    graph-- Dictionary containing cost it takes to travel the Free C Space\n",
    "    start-- Tuple containing the start coordinates\n",
    "    goal-- Tuple containing the goal coordinates\n",
    "    \n",
    "    Returns:\n",
    "    CLOSED-- all the nodes searched by the algorithm\n",
    "    backtrack-- used to compute the shortest path \n",
    "    '''\n",
    "    OPEN=[]\n",
    "    CLOSED=[]\n",
    "    past_cost={}\n",
    "    backtrack={}\n",
    "    # Past Cost of start node is set as zero and for rest of the nodes infinity\n",
    "    for node in graph.keys():\n",
    "        if node==start:\n",
    "            past_cost[node]=0\n",
    "        else:\n",
    "            past_cost[node]=math.inf\n",
    "    # Start node along with the cost is appended into OPEN\n",
    "    OPEN.append((0,start))\n",
    "    # Loop runs till the length of OPEN is not equal to zero\n",
    "    while len(OPEN)>0:\n",
    "        # node with the lowest cost is removed from OPEN\n",
    "        current_cost,current_node=heapq.heappop(OPEN)\n",
    "        # removed node is then added to CLOSED \n",
    "        CLOSED.append(current_node)\n",
    "        # if the goal node is reached the search is terminated\n",
    "        if current_node==goal:\n",
    "            print('SUCCESS: GOAL REACHED')\n",
    "            return backtrack,CLOSED\n",
    "        # If the goal node is not reached then the neighbours of the current node are searched\n",
    "        for nbr,_ in graph[current_node].items():\n",
    "            # if the neighbour node is not already searched\n",
    "            if nbr not in CLOSED: \n",
    "                # tentative cost is calculated\n",
    "                tentative_cost=past_cost[current_node]+graph[current_node][nbr]+manhattan_distance(current_node,nbr)\n",
    "                # if the tentative cost is less than the cost it takes to reach neighbour node\n",
    "                if tentative_cost<past_cost[nbr]:\n",
    "                    backtrack[nbr]={}\n",
    "                    # past cost of neighbour is updated\n",
    "                    past_cost[nbr]=tentative_cost\n",
    "                    backtrack[nbr][tentative_cost]=current_node\n",
    "                    # neighbour node along with cost is added to the list OPEN\n",
    "                    heapq.heappush(OPEN,(tentative_cost,nbr))\n",
    "                    # If the goal node is reached the search is terminated\n",
    "                    if nbr== goal:\n",
    "                        print('SUCCESS: GOAL REACHED')\n",
    "                        CLOSED.append(nbr)\n",
    "                        return backtrack,CLOSED\n",
    "    \n",
    "    print(\"GOAL NOT REACHED\")"
   ]
  },
  {
   "cell_type": "code",
   "execution_count": 7,
   "metadata": {},
   "outputs": [],
   "source": [
    "def backtracking_func(backtrack,goal,start):\n",
    "    '''\n",
    "    Computes the shortest path for a given problem\n",
    "    \n",
    "    Arguments:\n",
    "    backtrack-- dictionary from A*search containing nodes and neighours travelled\n",
    "    goal-- tuple containing the goal coordinates\n",
    "    start-- tuple containing the start coordinates\n",
    "    \n",
    "    Return:\n",
    "    backtrack_nodes-- list of nodes travelled in the shortest path\n",
    "    '''\n",
    "    backtrack_nodes=[]\n",
    "    # goal node is added to the list\n",
    "    backtrack_nodes.append(goal)\n",
    "    while goal!=0:\n",
    "        \n",
    "        for nbr,val in reversed(list(backtrack.items())):\n",
    "            \n",
    "            for ct,node in val.items():\n",
    "                \n",
    "                if nbr==goal:\n",
    "                    \n",
    "                    if node not in backtrack_nodes:\n",
    "                        backtrack_nodes.append(node)\n",
    "                    \n",
    "                    goal=node\n",
    "                    \n",
    "                    if node==start:\n",
    "                        goal=0\n",
    "                        break\n",
    "    return backtrack_nodes"
   ]
  },
  {
   "cell_type": "code",
   "execution_count": 8,
   "metadata": {},
   "outputs": [],
   "source": [
    "def astar_pointR(start,goal):\n",
    "    \n",
    "    print(\"Creating The C Space\")\n",
    "    # List for all points in the grid\n",
    "    all_points=[]\n",
    "    # Runs the loop through the entire grid \n",
    "    for x in range(max_x+1): # Loop runs from 0 to 300\n",
    "        for y in range(max_y+1): # Loop runs from 0 to 200\n",
    "            all_points.append((x,y))\n",
    "    print(\"Successfully Created The C Space\")\n",
    "    \n",
    "    print(\"Creating the Free C Space\")\n",
    "    # List for obstacle points in the grid\n",
    "    obstacle_points=[]\n",
    "    for pt in all_points:\n",
    "        x=pt[0]\n",
    "        y=pt[1]\n",
    "        \n",
    "        # Triangular Shaped Obstacle with (20,150), (45,175) and (30,80) as its vertex\n",
    "        if(130+x>=y) and (290-7*x<=y) and ((17/3)*x-90<=y):\n",
    "            obstacle_points.append((x,y))\n",
    "        # Complex shaped Obstacle\n",
    "        if (x>=90 and 5*x-360<=y and y<=155) or (x>=90 and(x+530>=4*y) and ((5/6)*x+(170/3)<=y) and x<=130):\n",
    "            obstacle_points.append((x,y))\n",
    "        # Complex shaped Obstacle\n",
    "        if x>=120 and x<=160 and y>=35 and y<=130:\n",
    "            if (x-10)>=y:\n",
    "                if x-400<=-2*y:\n",
    "                    if 3*x-360<=y:\n",
    "                        if x-60<=y or (-7/3)*x+(1120/3)>=y:\n",
    "                            if (-2/5)*x +93<=y:\n",
    "                                obstacle_points.append((x,y))\n",
    "        # Triangular Shaped Obstacle\n",
    "        if (2*x-340>=y) and ((-5/2)*x+605>=y) and (x-350>=-4*y):\n",
    "            obstacle_points.append((x,y))\n",
    "        # Trapezoidal Shaped Obstacle\n",
    "        if (-3*x+960>=y) and ((2/11)*x+(1460/11)>=y) and ((7/2)*x-(565)>=y) and (x+580<=5*y):\n",
    "            obstacle_points.append((x,y))\n",
    "    \n",
    "    # Checks if the goal node is in the obstacle\n",
    "    if goal in obstacle_points:\n",
    "        print(\"Goal Cant be Reached\")\n",
    "        exit()\n",
    "    \n",
    "    # C space is generated\n",
    "    base_graph={}\n",
    "    for pt in all_points:\n",
    "        base_graph[pt]=base_graph_generate(pt,max_x,max_y)[pt]\n",
    "    \n",
    "    # All the obstacle nodes are removed to create Free C space\n",
    "    for parent,neighbours in base_graph.items():\n",
    "        neighbours_copy = neighbours.copy()\n",
    "        for coordinates in neighbours_copy:\n",
    "            if coordinates in obstacle_points:\n",
    "                neighbours.remove(coordinates)\n",
    "    \n",
    "    base_graph_copy = base_graph.copy()\n",
    "    for parent,_ in base_graph_copy:\n",
    "        if parent in obstacle_points:\n",
    "            del base_graph[parent]\n",
    "    print(\"Successfully Created The Free C Space\")\n",
    "    \n",
    "    print(\"Calculating Cost\")\n",
    "    # Costs are calculated \n",
    "    cost_nodes=compute_cost(base_graph)\n",
    "    print(\"Cost Calculated\")\n",
    "    \n",
    "    print(\"Computing A* Algorithm\")\n",
    "    backtrack,visited=astar_algorithm(cost_nodes,start,goal)\n",
    "    \n",
    "    return backtrack,visited,obstacle_points"
   ]
  },
  {
   "cell_type": "code",
   "execution_count": 9,
   "metadata": {},
   "outputs": [
    {
     "name": "stdout",
     "output_type": "stream",
     "text": [
      "Creating The C Space\n",
      "Successfully Created The C Space\n",
      "Creating the Free C Space\n",
      "Successfully Created The Free C Space\n",
      "Calculating Cost\n",
      "Cost Calculated\n",
      "Computing A* Algorithm\n",
      "SUCCESS: GOAL REACHED\n"
     ]
    }
   ],
   "source": [
    "backtrack,visited,obstacle_points=astar_pointR(start,goal)"
   ]
  },
  {
   "cell_type": "code",
   "execution_count": 10,
   "metadata": {},
   "outputs": [],
   "source": [
    "backtrack_node=backtracking_func(backtrack,goal,start)"
   ]
  },
  {
   "cell_type": "code",
   "execution_count": 11,
   "metadata": {},
   "outputs": [
    {
     "name": "stdout",
     "output_type": "stream",
     "text": [
      "[(300, 200), (299, 199), (298, 198), (297, 197), (296, 196), (295, 195), (294, 194), (293, 193), (292, 192), (291, 191), (290, 190), (289, 189), (288, 188), (287, 187), (286, 186), (285, 185), (284, 184), (283, 183), (282, 182), (281, 181), (280, 180), (279, 179), (278, 178), (277, 177), (276, 176), (275, 175), (274, 174), (273, 173), (272, 172), (271, 171), (270, 170), (269, 169), (268, 168), (267, 167), (266, 166), (265, 165), (264, 164), (263, 163), (262, 162), (261, 161), (260, 160), (259, 159), (258, 158), (257, 157), (256, 156), (255, 155), (254, 154), (253, 153), (252, 152), (251, 151), (250, 150), (249, 149), (248, 148), (247, 147), (246, 146), (245, 145), (244, 144), (243, 143), (242, 142), (241, 141), (240, 140), (239, 139), (238, 138), (237, 137), (236, 136), (235, 135), (234, 134), (233, 133), (232, 132), (231, 131), (230, 130), (229, 129), (228, 128), (227, 127), (226, 126), (225, 125), (224, 124), (223, 123), (222, 122), (221, 121), (220, 120), (219, 119), (218, 118), (217, 117), (216, 116), (215, 115), (214, 114), (213, 113), (212, 112), (211, 111), (210, 110), (209, 109), (208, 108), (207, 107), (206, 106), (205, 105), (204, 104), (203, 103), (202, 102), (201, 101), (200, 100), (199, 99), (198, 98), (197, 97), (196, 96), (195, 95), (194, 94), (193, 93), (192, 92), (191, 91), (190, 90), (189, 89), (188, 88), (187, 87), (186, 86), (185, 85), (184, 84), (183, 83), (182, 82), (181, 81), (180, 80), (179, 79), (178, 78), (177, 77), (176, 76), (175, 75), (174, 74), (173, 73), (172, 72), (171, 71), (170, 70), (169, 69), (168, 68), (167, 67), (166, 66), (165, 65), (164, 64), (163, 63), (162, 62), (161, 61), (160, 60), (159, 59), (158, 58), (157, 57), (156, 56), (155, 55), (154, 54), (153, 53), (152, 52), (151, 51), (150, 50), (149, 49), (148, 48), (147, 47), (146, 46), (145, 45), (144, 44), (143, 43), (142, 42), (141, 41), (140, 40), (139, 39), (138, 38), (137, 37), (136, 36), (135, 35), (134, 34), (133, 33), (132, 32), (131, 31), (130, 30), (129, 29), (128, 28), (127, 27), (126, 26), (125, 25), (124, 24), (123, 23), (122, 22), (121, 21), (120, 20), (119, 19), (118, 18), (117, 17), (116, 16), (115, 15), (114, 14), (113, 13), (112, 12), (111, 11), (110, 10), (109, 9), (108, 8), (107, 7), (106, 6), (105, 5), (104, 5), (103, 5), (102, 5), (101, 5), (100, 5), (99, 5), (98, 5), (97, 5), (96, 5), (95, 5), (94, 5), (93, 5), (92, 5), (91, 5), (90, 5), (89, 5), (88, 5), (87, 5), (86, 5), (85, 5), (84, 5), (83, 5), (82, 5), (81, 5), (80, 5), (79, 5), (78, 5), (77, 5), (76, 5), (75, 5), (74, 5), (73, 5), (72, 5), (71, 5), (70, 5), (69, 5), (68, 5), (67, 5), (66, 5), (65, 5), (64, 5), (63, 5), (62, 5), (61, 5), (60, 5), (59, 5), (58, 5), (57, 5), (56, 5), (55, 5), (54, 5), (53, 5), (52, 5), (51, 5), (50, 5), (49, 5), (48, 5), (47, 5), (46, 5), (45, 5), (44, 5), (43, 5), (42, 5), (41, 5), (40, 5), (39, 5), (38, 5), (37, 5), (36, 5), (35, 5), (34, 5), (33, 5), (32, 5), (31, 5), (30, 5), (29, 5), (28, 5), (27, 5), (26, 5), (25, 5), (24, 5), (23, 5), (22, 5), (21, 5), (20, 5), (19, 5), (18, 5), (17, 5), (16, 5), (15, 5), (14, 5), (13, 5), (12, 5), (11, 5), (10, 5), (9, 5), (8, 5), (7, 5), (6, 5), (5, 5)]\n"
     ]
    }
   ],
   "source": [
    "print(backtrack_node)"
   ]
  },
  {
   "cell_type": "code",
   "execution_count": 12,
   "metadata": {},
   "outputs": [],
   "source": [
    "obstacle_x1=[]\n",
    "obstacle_y1=[]\n",
    "for c in backtrack_node:\n",
    "    obstacle_x1.append(c[0])\n",
    "    obstacle_y1.append(c[1])"
   ]
  },
  {
   "cell_type": "code",
   "execution_count": 18,
   "metadata": {},
   "outputs": [
    {
     "data": {
      "image/png": "[encoded data removed]",
      "text/plain": [
       "<Figure size 432x288 with 1 Axes>"
      ]
     },
     "metadata": {
      "needs_background": "light"
     },
     "output_type": "display_data"
    }
   ],
   "source": [
    "TR1=[[20,150],[30,80],[45,175]]\n",
    "CP1=[[90,90],[90,155],[130,165],[100,140]]\n",
    "plt.axes()\n",
    "\n",
    "polygon_tr1=plt.Polygon(TR1)\n",
    "polygon_cp1=plt.Polygon(CP1)\n",
    "\n",
    "plt.gca().add_patch(polygon_tr1)\n",
    "plt.gca().add_patch(polygon_cp1)\n",
    "plt.axis('scaled')\n",
    "plt.show()"
   ]
  },
  {
   "cell_type": "code",
   "execution_count": 14,
   "metadata": {},
   "outputs": [],
   "source": [
    "import seaborn"
   ]
  },
  {
   "cell_type": "code",
   "execution_count": null,
   "metadata": {},
   "outputs": [],
   "source": []
  },
  {
   "cell_type": "code",
   "execution_count": null,
   "metadata": {},
   "outputs": [],
   "source": []
  }
 ],
 "metadata": {
  "kernelspec": {
   "display_name": "Python 3",
   "language": "python",
   "name": "python3"
  },
  "language_info": {
   "codemirror_mode": {
    "name": "ipython",
    "version": 3
   },
   "file_extension": ".py",
   "mimetype": "text/x-python",
   "name": "python",
   "nbconvert_exporter": "python",
   "pygments_lexer": "ipython3",
   "version": "3.8.5"
  }
 },
 "nbformat": 4,
 "nbformat_minor": 4
}
